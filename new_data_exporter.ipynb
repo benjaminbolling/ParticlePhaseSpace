{
 "cells": [
  {
   "cell_type": "markdown",
   "id": "46aa05cc",
   "metadata": {},
   "source": [
    "# Writing a new data exporter\n",
    "\n",
    "Writing a new DataExporter is very similar process to [writing a new DataLoader](https://bwheelz36.github.io/ParticlePhaseSpace/new_data_loader.html#).\n",
    "As an example: lets say that I want to export some topas to the format that he originally sent his data to me in the [data import example](https://bwheelz36.github.io/ParticlePhaseSpace/new_data_loader.html#):\n",
    "\n",
    "```\n",
    "x (mm)\ty (mm)\tz (mm)\tpx (MeV/c)\tpy (MeV/c)\tpz (MeV/c)\tE (MeV)\n",
    "```\n",
    "\n",
    "To do this, we would create a data exporter as follows:"
   ]
  },
  {
   "cell_type": "code",
   "execution_count": 1,
   "id": "8b8cfdb7",
   "metadata": {},
   "outputs": [],
   "source": [
    "from pathlib import Path\n",
    "import sys\n",
    "sys.path.append('../')\n",
    "from ParticlePhaseSpace.DataExporters import _DataExportersBase\n",
    "from ParticlePhaseSpace import DataLoaders\n",
    "from ParticlePhaseSpace._ParticlePhaseSpace import PhaseSpace\n",
    "import numpy as np\n",
    "import ParticlePhaseSpace.__particle_config__ as particle_cfg\n",
    "\n",
    "class NewDataExporter(_DataExportersBase):\n",
    "    \n",
    "    def _define_required_columns(self):\n",
    "        pass\n",
    "        \n",
    "    def _export_data(self):\n",
    "        pass"
   ]
  },
  {
   "cell_type": "markdown",
   "id": "d28c1c36",
   "metadata": {},
   "source": [
    "Our job is to fill in these two blank methods.\n",
    "\n",
    "- in `_define_required_columns` you must list all the columns required for your data export. These column names must match  the [allowed columns] from the phase space specification. \n",
    "- `_export_data` is where the data export will actually happen.\n",
    "\n",
    "The filled in data exporter for the case in hand looks like this:"
   ]
  },
  {
   "cell_type": "code",
   "execution_count": 2,
   "id": "c814a61a",
   "metadata": {},
   "outputs": [],
   "source": [
    "class NewDataExporter(_DataExportersBase):\n",
    "\n",
    "    def _define_required_columns(self):\n",
    "        self._required_columns = ['x [mm]', 'y [mm]', 'z [mm]', 'px [MeV/c]', 'py [MeV/c]', 'pz [MeV/c]', 'Ek [MeV]']\n",
    "\n",
    "    def _export_data(self):\n",
    "\n",
    "        if not Path(self._output_name).suffix == '.dat':\n",
    "            _output_name = str(self._output_name) + '.dat'\n",
    "        else:\n",
    "            _output_name = self._output_name\n",
    "        WritefilePath = Path(self._output_location) / _output_name\n",
    "\n",
    "        header = 'x (mm)\\ty (mm)\\tz (mm)\\tpx (MeV/c)\\tpy (MeV/c)\\tpz (MeV/c)\\tE (MeV)'\n",
    "        Data = [self._PS.ps_data['x [mm]'].to_numpy(), self._PS.ps_data['y [mm]'].to_numpy(), self._PS.ps_data['z [mm]'].to_numpy(),\n",
    "                self._PS.ps_data['px [MeV/c]'].to_numpy(), self._PS.ps_data['py [MeV/c]'].to_numpy(),\n",
    "                self._PS.ps_data['pz [MeV/c]'].to_numpy(),\n",
    "                self._PS.ps_data['Ek [MeV]'].to_numpy()]\n",
    "        Data = np.transpose(Data)\n",
    "        FormatSpec = ['%11.5f', '%11.5f', '%11.5f', '%11.5f', '%11.5f', '%11.5f', '%11.5f']\n",
    "        np.savetxt(WritefilePath, Data, fmt=FormatSpec, delimiter='      ', header=header, comments='')"
   ]
  },
  {
   "cell_type": "markdown",
   "id": "66b95dc5",
   "metadata": {},
   "source": [
    "## Testing the data export\n",
    "\n",
    "Let's test the use case of loading in some topas data, and exporting it with this data exporter:"
   ]
  },
  {
   "cell_type": "code",
   "execution_count": 3,
   "id": "48e6a00f",
   "metadata": {},
   "outputs": [
    {
     "data": {
      "text/plain": [
       "<__main__.NewDataExporter at 0x7f567c7155e0>"
      ]
     },
     "execution_count": 3,
     "metadata": {},
     "output_type": "execute_result"
    }
   ],
   "source": [
    "# load topas data:\n",
    "data_loc = Path('../tests/test_data/coll_PhaseSpace_xAng_0.00_yAng_0.00_angular_error_0.0.phsp')\n",
    "data = DataLoaders.LoadTopasData(data_loc)\n",
    "PS = PhaseSpace(data)\n",
    "\n",
    "# Because we only want to work with the electrons, generate an electron only phase space:\n",
    "PS_electrons = PS('electrons')\n",
    "\n",
    "NewDataExporter(PS_electrons,'.','test_new_exporter.dat')"
   ]
  },
  {
   "cell_type": "markdown",
   "id": "2ec9c348",
   "metadata": {},
   "source": [
    "To verify that this worked, we can recycle the [data loader]() we wrote to read this data and check if it works"
   ]
  },
  {
   "cell_type": "code",
   "execution_count": 5,
   "id": "c6fae3c8",
   "metadata": {},
   "outputs": [],
   "source": [
    "from ParticlePhaseSpace.DataLoaders import _DataLoadersBase\n",
    "\n",
    "class NewDataLoader(_DataLoadersBase):\n",
    "\n",
    "    def _import_data(self):\n",
    "        Data = np.loadtxt(self._input_data, skiprows=1)\n",
    "        self.data['x [mm]'] = Data[:, 0]\n",
    "        self.data['y [mm]'] = Data[:, 1]\n",
    "        self.data['z [mm]'] = Data[:, 2]\n",
    "        self.data['px [MeV/c]'] = Data[:, 3]\n",
    "        self.data['py [MeV/c]'] = Data[:, 4]\n",
    "        self.data['pz [MeV/c]'] = Data[:, 5]\n",
    "        self.data['particle type [pdg_code]'] = particle_cfg.particle_properties[self._particle_type]['name']\n",
    "        # we also need to fill in weight, particle id, and time; since none of these are specified we just use all\n",
    "        # ones for weight, 1,2,3... for particle id, and all zeros for time:\n",
    "        self.data['weight'] = np.ones(Data.shape[0])\n",
    "        self.data['particle id'] = np.arange(len(self.data))\n",
    "\n",
    "        self.data['time [ps]'] = 0  # may want to replace with time feature if available?\n",
    "\n",
    "        # because we have momentum and energy, we can double check that our momentum to energy conversion is \n",
    "        # consisten with the values in the phase space:\n",
    "        E = Data[:, 6]\n",
    "        self._check_energy_consistency(Ek=E)\n",
    "\n",
    "    def _check_input_data(self):\n",
    "        # is the input a file?\n",
    "        if not Path(self._input_data).is_file():\n",
    "            raise FileNotFoundError(f'input data file {self._import_data()} does not exist')\n",
    "        # does it have the right extension?\n",
    "        if not Path(self._input_data).suffix == '.dat':\n",
    "            raise Exception('This data loaders requires a *.dat file')\n",
    "        # the header is on the first line; does it look correct?\n",
    "        with open(self._input_data) as f:\n",
    "            first_line = f.readline()\n",
    "            if not first_line == 'x (mm)\\ty (mm)\\tz (mm)\\tpx (MeV/c)\\tpy (MeV/c)\\tpz (MeV/c)\\tE (MeV)\\n':\n",
    "                raise Exception('file header does not look correct')\n",
    "        if not self._particle_type:\n",
    "            raise Exception('this data loader requires particle_type to be specified')"
   ]
  },
  {
   "cell_type": "code",
   "execution_count": 6,
   "id": "a14268a3",
   "metadata": {},
   "outputs": [
    {
     "data": {
      "image/png": "[encoded data removed]",
      "text/plain": [
       "<Figure size 640x480 with 1 Axes>"
      ]
     },
     "metadata": {},
     "output_type": "display_data"
    }
   ],
   "source": [
    "data_loc = 'test_new_exporter.dat'\n",
    "data = NewDataLoader(data_loc, particle_type='electrons')\n",
    "PS = PhaseSpace(data)\n",
    "PS.plot_energy_histogram()"
   ]
  },
  {
   "cell_type": "markdown",
   "id": "f6dd4475",
   "metadata": {},
   "source": [
    "looks good!"
   ]
  }
 ],
 "metadata": {
  "kernelspec": {
   "display_name": "Python 3 (ipykernel)",
   "language": "python",
   "name": "python3"
  },
  "language_info": {
   "codemirror_mode": {
    "name": "ipython",
    "version": 3
   },
   "file_extension": ".py",
   "mimetype": "text/x-python",
   "name": "python",
   "nbconvert_exporter": "python",
   "pygments_lexer": "ipython3",
   "version": "3.9.5"
  }
 },
 "nbformat": 4,
 "nbformat_minor": 5
}
