{
 "cells": [
  {
   "cell_type": "markdown",
   "id": "ef6fde2a",
   "metadata": {},
   "source": [
    "# User defined methods\n",
    "\n",
    "In some instances, you may wish to load data into the phase space which is not included in either the required quantities, or the allowed quantities which can be derived from these. This example shows how this can be achieved.\n",
    "\n",
    "It is important to note that any additional quantites you load must still be included in the [allowed columns](https://bwheelz36.github.io/ParticlePhaseSpace/phase_space_format.html#allowed-columns), with the fill_method defined as `None`.\n",
    "\n",
    "## Example scenario\n",
    "\n",
    "As described [here](https://github.com/bwheelz36/ParticlePhaseSpace/issues/144) Topas is one program which can report on a lot of data which is not included in the basic phase space quantites this code handles by default. This example shows you these quantites can be read in.\n",
    "\n",
    "The first step is to create our user defined methods to read the data. The below ugly code simply cycles through the topas data and tries to extract different quantities from it. don't worry about the format too much for now."
   ]
  },
  {
   "cell_type": "code",
   "execution_count": 2,
   "id": "fc14d7a9",
   "metadata": {},
   "outputs": [],
   "source": [
    "import sys\n",
    "sys.path.append('../')\n",
    "from ParticlePhaseSpace._ParticlePhaseSpace import _PhaseSpace_MethodHolder\n",
    "from ParticlePhaseSpace import DataLoaders, PhaseSpace\n",
    "from pathlib import Path\n",
    "import topas2numpy as tp\n",
    "import warnings\n",
    "\n",
    "class MyMethods(_PhaseSpace_MethodHolder):\n",
    "\n",
    "    def load_additional_topas_quantities(self, phase_space_location: (Path, str), quantities_to_read: (list, None) = None):\n",
    "        \"\"\"\n",
    "\n",
    "        :param phase_space_location: location of phase space data\n",
    "        :param quantities_to_read: list of quantities to read, taken from __phase_space_config__. Code will attempt\n",
    "            to extract these from phase_space, and warn if it is not possible\n",
    "        :return:\n",
    "        \"\"\"\n",
    "\n",
    "        if isinstance(phase_space_location, str):\n",
    "            phase_space_location = Path(phase_space_location)\n",
    "        if not isinstance(phase_space_location, Path):\n",
    "            raise TypeError(f'phase_space_location must be string or Path, not {type(phase_space_location)}')\n",
    "\n",
    "        topas_phase_space = tp.read_ntuple(str(phase_space_location))\n",
    "        fields_in_phase_space = topas_phase_space.dtype.names\n",
    "        if quantities_to_read is None:\n",
    "            quantities_to_read = ['first_history_flag',\n",
    "                                  'time_of_flight',\n",
    "                                  'run_id',\n",
    "                                  'event_id',\n",
    "                                  'track_id',\n",
    "                                  'parent_id',\n",
    "                                  'intial_kinetic_energy',\n",
    "                                  'initial_cosine_x',\n",
    "                                  'initial_cosine_y',\n",
    "                                  'initial_cosine_z',\n",
    "                                  'vertex_x',\n",
    "                                  'vertex_y',\n",
    "                                  'vertex_z']\n",
    "        # set up dict to handle differently named quantities (can be cleaned up!)\n",
    "        topas_aliases = {'first_history_flag': 'Flag to tell if this is the First Scored Particle from this History (1 means true)',\n",
    "                          'time_of_flight': 'Time of Flight [ns]',\n",
    "                          'run_id': 'Run ID',\n",
    "                          'event_id': 'Event ID',\n",
    "                          'track_id': 'Track ID',\n",
    "                          'parent_id': 'Parent ID',\n",
    "                          'intial_kinetic_energy': 'Initial Kinetic Energy [MeV]',\n",
    "                          'initial_cosine_x': 'Initial Direction Cosine X',\n",
    "                          'initial_cosine_y': 'Initial Direction Cosine Y',\n",
    "                          'initial_cosine_z': 'Initial Direction Cosine Z',\n",
    "                          'vertex_x': 'Vertex Position X [cm]',\n",
    "                          'vertex_y': 'Vertex Position Y [cm]',\n",
    "                          'vertex_z': 'Vertex Position Z [cm]'}\n",
    "\n",
    "        for quantity in quantities_to_read:\n",
    "            if quantity in topas_aliases.keys():\n",
    "                _quantity = topas_aliases[quantity]\n",
    "            else:\n",
    "                _quantity = quantity\n",
    "            if _quantity in fields_in_phase_space:\n",
    "                self._PS._ps_data[quantity] = topas_phase_space[_quantity]\n",
    "            else:\n",
    "                warnings.warn(f'oh no. {quantity} is not in fields')\n",
    "\n",
    "    def operate_on_additional_quantities(self):\n",
    "        pass"
   ]
  },
  {
   "cell_type": "markdown",
   "id": "ca989b03",
   "metadata": {},
   "source": [
    "The next step is to test this by readin in some data:"
   ]
  },
  {
   "cell_type": "code",
   "execution_count": 3,
   "id": "345681d1",
   "metadata": {},
   "outputs": [
    {
     "data": {
      "text/plain": [
       "Index(['particle type [pdg_code]', 'x [mm]', 'y [mm]', 'z [mm]', 'weight',\n",
       "       'particle id', 'time [ps]', 'px [MeV/c]', 'py [MeV/c]', 'pz [MeV/c]',\n",
       "       'first_history_flag', 'time_of_flight', 'run_id', 'event_id',\n",
       "       'track_id', 'parent_id', 'intial_kinetic_energy', 'initial_cosine_x',\n",
       "       'initial_cosine_y', 'initial_cosine_z', 'vertex_x', 'vertex_y',\n",
       "       'vertex_z'],\n",
       "      dtype='object')"
      ]
     },
     "execution_count": 3,
     "metadata": {},
     "output_type": "execute_result"
    }
   ],
   "source": [
    "\n",
    "data_loc = Path('/home/brendan/Documents/temp/tiba_topa_testa/temp/Results/test_PS.phsp')\n",
    "ps_data = DataLoaders.Load_TopasData(data_loc)\n",
    "PS = PhaseSpace(ps_data, UserDefinedMethods=MyMethods)\n",
    "\n",
    "PS.user_defined.load_additional_topas_quantities(data_loc)\n",
    "PS.ps_data.columns"
   ]
  },
  {
   "cell_type": "markdown",
   "id": "527b0f96",
   "metadata": {},
   "source": [
    "OK! this has worked. the quantities are in the phase space.\n",
    "Note that at the moment, user defined quantities like these are not subjected to the unit system, so it is completely the user responsibility to keep track of units."
   ]
  },
  {
   "cell_type": "code",
   "execution_count": null,
   "id": "ac17c343",
   "metadata": {},
   "outputs": [],
   "source": []
  }
 ],
 "metadata": {
  "kernelspec": {
   "display_name": "Python 3 (ipykernel)",
   "language": "python",
   "name": "python3"
  },
  "language_info": {
   "codemirror_mode": {
    "name": "ipython",
    "version": 3
   },
   "file_extension": ".py",
   "mimetype": "text/x-python",
   "name": "python",
   "nbconvert_exporter": "python",
   "pygments_lexer": "ipython3",
   "version": "3.10.6"
  }
 },
 "nbformat": 4,
 "nbformat_minor": 5
}
